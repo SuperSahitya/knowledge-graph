{
 "cells": [
  {
   "cell_type": "code",
   "execution_count": 16,
   "id": "03bc49fd",
   "metadata": {},
   "outputs": [],
   "source": [
    "from langchain_neo4j import Neo4jGraph, GraphCypherQAChain, Neo4jVector\n",
    "import os\n",
    "from langchain_core.documents import Document\n",
    "from langchain_google_genai import ChatGoogleGenerativeAI, GoogleGenerativeAIEmbeddings\n",
    "from langchain_community.document_loaders import PyPDFLoader\n",
    "from langchain_text_splitters import RecursiveCharacterTextSplitter\n",
    "\n",
    "from langchain_experimental.graph_transformers import LLMGraphTransformer"
   ]
  },
  {
   "cell_type": "code",
   "execution_count": 2,
   "id": "08ba111f",
   "metadata": {},
   "outputs": [
    {
     "data": {
      "text/plain": [
       "True"
      ]
     },
     "execution_count": 2,
     "metadata": {},
     "output_type": "execute_result"
    }
   ],
   "source": [
    "from dotenv import load_dotenv\n",
    "load_dotenv(\"../.env\")"
   ]
  },
  {
   "cell_type": "code",
   "execution_count": 3,
   "id": "6c32b38f",
   "metadata": {},
   "outputs": [],
   "source": [
    "graph = Neo4jGraph(url=os.getenv(\"NEO4J_URI\"), username=os.getenv(\n",
    "    \"USERNAME\"), password=os.getenv(\"PASSWORD\"))"
   ]
  },
  {
   "cell_type": "code",
   "execution_count": 4,
   "id": "8c8b48eb",
   "metadata": {},
   "outputs": [],
   "source": [
    "file_path = \"../public/Elon_Musk.pdf\"\n",
    "loader = PyPDFLoader(file_path)\n",
    "pages = []\n",
    "async for page in loader.alazy_load():\n",
    "    pages.append(page)"
   ]
  },
  {
   "cell_type": "code",
   "execution_count": 5,
   "id": "351d3008",
   "metadata": {},
   "outputs": [],
   "source": [
    "text_splitter = RecursiveCharacterTextSplitter(\n",
    "    chunk_size=500, chunk_overlap=100)\n",
    "chunks = text_splitter.split_documents(pages)"
   ]
  },
  {
   "cell_type": "code",
   "execution_count": 6,
   "id": "5c53cfa4",
   "metadata": {},
   "outputs": [],
   "source": [
    "text = \"\"\"\"Elon Reeve Musk FRS (/ˈiːlɒn/ EE-lon; born June 28, 1971) is a businessman, known for his leadership of Tesla, SpaceX, X (formerly Twitter), and the Department of Government Efficiency (DOGE). Musk has been the wealthiest person in the world since 2021; as of May 2025, Forbes estimates his net worth to be US$424.7 billion.\n",
    "Born to a wealthy family in Pretoria, South Africa, Musk emigrated in 1989 to Canada. He received bachelor's degrees from the University of Pennsylvania in 1997 before moving to California, United States, to pursue business ventures. In 1995, Musk co-founded the software company Zip2. Following its sale in 1999, he co-founded X.com, an online payment company that later merged to form PayPal, which was acquired by eBay in 2002. That year, Musk also became an American citizen.\n",
    "In 2002, Musk founded the space technology company SpaceX, becoming its CEO and chief engineer; the company has since led innovations in reusable rockets and commercial spaceflight. Musk joined the automaker Tesla as an early investor in 2004 and became its CEO and product architect in 2008; it has since become a leader in electric vehicles. In 2015, he co-founded OpenAI to advance artificial intelligence (AI) research but later left; growing discontent with the organization's direction and their leadership in the AI boom in the 2020s led him to establish xAI. In 2022, he acquired the social network Twitter, implementing significant changes and rebranding it as X in 2023. His other businesses include the neurotechnology company Neuralink, which he co-founded in 2016, and the tunneling company the Boring Company, which he founded in 2017.\n",
    "Musk was the largest donor in the 2024 U.S. presidential election, and is a supporter of global far-right figures, causes, and political parties. In early 2025, he served as senior advisor to United States president Donald Trump and as the de facto head of DOGE. After a public feud with Trump, Musk left the Trump administration and announced he was creating his own political party, the America Party.\n",
    "Musk's political activities, views, and statements have made him a polarizing figure, especially following the COVID-19 pandemic. He has been criticized for making unscientific and misleading statements, including COVID-19 misinformation and promoting conspiracy theories, and affirming antisemitic, racist, and transphobic comments. His acquisition of Twitter was controversial due to a subsequent increase in hate speech and the spread of misinformation on the service. His role in the second Trump administration attracted public backlash, particularly in response to DOGE. \"\"\""
   ]
  },
  {
   "cell_type": "code",
   "execution_count": 7,
   "id": "a4e635e4",
   "metadata": {},
   "outputs": [
    {
     "data": {
      "text/plain": [
       "[Document(metadata={}, page_content='\"Elon Reeve Musk FRS (/ˈiːlɒn/ EE-lon; born June 28, 1971) is a businessman, known for his leadership of Tesla, SpaceX, X (formerly Twitter), and the Department of Government Efficiency (DOGE). Musk has been the wealthiest person in the world since 2021; as of May 2025, Forbes estimates his net worth to be US$424.7 billion.'),\n",
       " Document(metadata={}, page_content=\"Born to a wealthy family in Pretoria, South Africa, Musk emigrated in 1989 to Canada. He received bachelor's degrees from the University of Pennsylvania in 1997 before moving to California, United States, to pursue business ventures. In 1995, Musk co-founded the software company Zip2. Following its sale in 1999, he co-founded X.com, an online payment company that later merged to form PayPal, which was acquired by eBay in 2002. That year, Musk also became an American citizen.\"),\n",
       " Document(metadata={}, page_content=\"In 2002, Musk founded the space technology company SpaceX, becoming its CEO and chief engineer; the company has since led innovations in reusable rockets and commercial spaceflight. Musk joined the automaker Tesla as an early investor in 2004 and became its CEO and product architect in 2008; it has since become a leader in electric vehicles. In 2015, he co-founded OpenAI to advance artificial intelligence (AI) research but later left; growing discontent with the organization's direction and\"),\n",
       " Document(metadata={}, page_content=\"intelligence (AI) research but later left; growing discontent with the organization's direction and their leadership in the AI boom in the 2020s led him to establish xAI. In 2022, he acquired the social network Twitter, implementing significant changes and rebranding it as X in 2023. His other businesses include the neurotechnology company Neuralink, which he co-founded in 2016, and the tunneling company the Boring Company, which he founded in 2017.\"),\n",
       " Document(metadata={}, page_content='Musk was the largest donor in the 2024 U.S. presidential election, and is a supporter of global far-right figures, causes, and political parties. In early 2025, he served as senior advisor to United States president Donald Trump and as the de facto head of DOGE. After a public feud with Trump, Musk left the Trump administration and announced he was creating his own political party, the America Party.'),\n",
       " Document(metadata={}, page_content=\"Musk's political activities, views, and statements have made him a polarizing figure, especially following the COVID-19 pandemic. He has been criticized for making unscientific and misleading statements, including COVID-19 misinformation and promoting conspiracy theories, and affirming antisemitic, racist, and transphobic comments. His acquisition of Twitter was controversial due to a subsequent increase in hate speech and the spread of misinformation on the service. His role in the second\"),\n",
       " Document(metadata={}, page_content='increase in hate speech and the spread of misinformation on the service. His role in the second Trump administration attracted public backlash, particularly in response to DOGE.')]"
      ]
     },
     "execution_count": 7,
     "metadata": {},
     "output_type": "execute_result"
    }
   ],
   "source": [
    "chunks = text_splitter.split_documents([Document(page_content=text)])\n",
    "chunks"
   ]
  },
  {
   "cell_type": "code",
   "execution_count": 8,
   "id": "51a91a7e",
   "metadata": {},
   "outputs": [],
   "source": [
    "llm = ChatGoogleGenerativeAI(api_key=os.getenv(\n",
    "    \"GEMINI_API_KEY\"), model=\"gemini-2.5-flash\")"
   ]
  },
  {
   "cell_type": "code",
   "execution_count": 11,
   "id": "454ece05",
   "metadata": {},
   "outputs": [],
   "source": [
    "allowed_nodes = [\"Person\", \"Organization\"]\n",
    "allowed_relationships = [\n",
    "    (\"Person\", \"SPOUSE\", \"Person\"),\n",
    "    (\"Person\", \"WORKS_AT\", \"Organization\"),\n",
    "]\n",
    "graph_transformer = LLMGraphTransformer(\n",
    "    llm=llm, allowed_nodes=allowed_nodes, allowed_relationships=allowed_relationships)"
   ]
  },
  {
   "cell_type": "code",
   "execution_count": null,
   "id": "fb132e38",
   "metadata": {},
   "outputs": [],
   "source": [
    "data = await graph_transformer.aconvert_to_graph_documents(chunks)"
   ]
  },
  {
   "cell_type": "code",
   "execution_count": null,
   "id": "1c4d22f8",
   "metadata": {},
   "outputs": [],
   "source": [
    "graph.add_graph_documents(data)"
   ]
  },
  {
   "cell_type": "code",
   "execution_count": 12,
   "id": "48a6b27f",
   "metadata": {},
   "outputs": [],
   "source": [
    "embeddings = GoogleGenerativeAIEmbeddings(\n",
    "    google_api_key=os.getenv(\"GEMINI_API_KEY\"),\n",
    "    model=\"models/embedding-001\"\n",
    ")"
   ]
  },
  {
   "cell_type": "code",
   "execution_count": 25,
   "id": "11fe69fd",
   "metadata": {},
   "outputs": [
    {
     "name": "stdout",
     "output_type": "stream",
     "text": [
      "Existing vector index dropped successfully\n"
     ]
    }
   ],
   "source": [
    "try:\n",
    "    graph.query(\"DROP INDEX vector IF EXISTS\")\n",
    "    print(\"Existing vector index dropped successfully\")\n",
    "except Exception as e:\n",
    "    print(f\"Error dropping index: {e}\")"
   ]
  },
  {
   "cell_type": "code",
   "execution_count": 13,
   "id": "e0e089c1",
   "metadata": {},
   "outputs": [
    {
     "data": {
      "text/plain": [
       "[{'n': {'id': 'Musk'},\n",
       "  'j': ({'id': 'Musk'}, 'CO_FOUNDED', {'id': 'Zip2'}),\n",
       "  'm': {'id': 'Zip2'}},\n",
       " {'n': {'id': 'Musk'},\n",
       "  'j': ({'id': 'Musk'}, 'CO_FOUNDED', {'id': 'X.Com'}),\n",
       "  'm': {'id': 'X.Com'}},\n",
       " {'n': {'id': 'Musk'},\n",
       "  'j': ({'id': 'Musk'}, 'CO_FOUNDED', {'id': 'Openai'}),\n",
       "  'm': {'id': 'Openai'}},\n",
       " {'n': {'id': 'Unnamed Person'},\n",
       "  'j': ({'id': 'Unnamed Person'}, 'CO_FOUNDED', {'id': 'Neuralink'}),\n",
       "  'm': {'id': 'Neuralink'}}]"
      ]
     },
     "execution_count": 13,
     "metadata": {},
     "output_type": "execute_result"
    }
   ],
   "source": [
    "graph.query(\"match (n:Person)-[j:CO_FOUNDED]->(m) return n, j, m\")"
   ]
  },
  {
   "cell_type": "code",
   "execution_count": 40,
   "id": "5aa3c284",
   "metadata": {},
   "outputs": [
    {
     "name": "stdout",
     "output_type": "stream",
     "text": [
      "\n",
      "\n",
      "\u001b[1m> Entering new GraphCypherQAChain chain...\u001b[0m\n",
      "Generated Cypher:\n",
      "\u001b[32;1m\u001b[1;3mcypher\n",
      "MATCH (p:Person {id: 'Musk'})-[:CEO_OF]->(c:Company)\n",
      "RETURN c.id\n",
      "\u001b[0m\n",
      "Full Context:\n",
      "\u001b[32;1m\u001b[1;3m[{'c.id': 'Spacex'}, {'c.id': 'Tesla'}]\u001b[0m\n",
      "\n",
      "\u001b[1m> Finished chain.\u001b[0m\n"
     ]
    },
    {
     "data": {
      "text/plain": [
       "{'query': 'Musk is ceo of which company?',\n",
       " 'result': 'Musk is ceo of Spacex, Tesla.'}"
      ]
     },
     "execution_count": 40,
     "metadata": {},
     "output_type": "execute_result"
    }
   ],
   "source": [
    "chain = GraphCypherQAChain.from_llm(\n",
    "    llm, graph=graph, verbose=True,\n",
    "    allow_dangerous_requests=True\n",
    ")\n",
    "\n",
    "chain.invoke(\"Musk is ceo of which company?\")"
   ]
  },
  {
   "cell_type": "code",
   "execution_count": 15,
   "id": "965c4a7d",
   "metadata": {},
   "outputs": [
    {
     "data": {
      "text/plain": [
       "{'node_props': {'Location': [{'property': 'id', 'type': 'STRING'}],\n",
       "  'Event': [{'property': 'id', 'type': 'STRING'}],\n",
       "  'Organization': [{'property': 'id', 'type': 'STRING'}],\n",
       "  'Person': [{'property': 'id', 'type': 'STRING'}],\n",
       "  'Concept': [{'property': 'id', 'type': 'STRING'}],\n",
       "  'Occupation': [{'property': 'id', 'type': 'STRING'}],\n",
       "  'Date': [{'property': 'id', 'type': 'STRING'}],\n",
       "  'Monetary value': [{'property': 'id', 'type': 'STRING'}],\n",
       "  'University': [{'property': 'id', 'type': 'STRING'}],\n",
       "  'Company': [{'property': 'id', 'type': 'STRING'}],\n",
       "  'Technology': [{'property': 'id', 'type': 'STRING'}],\n",
       "  'Field of study': [{'property': 'id', 'type': 'STRING'}],\n",
       "  'Year': [{'property': 'id', 'type': 'STRING'}],\n",
       "  'Election': [{'property': 'id', 'type': 'STRING'}],\n",
       "  'Movement': [{'property': 'id', 'type': 'STRING'}],\n",
       "  'Government': [{'property': 'id', 'type': 'STRING'}],\n",
       "  'Political party': [{'property': 'id', 'type': 'STRING'}],\n",
       "  'Administration': [{'property': 'id', 'type': 'STRING'}]},\n",
       " 'rel_props': {},\n",
       " 'relationships': [{'start': 'Event',\n",
       "   'type': 'TARGETED',\n",
       "   'end': 'Organization'},\n",
       "  {'start': 'Event', 'type': 'LED_TO', 'end': 'Concept'},\n",
       "  {'start': 'Event', 'type': 'RESULTED_IN', 'end': 'Concept'},\n",
       "  {'start': 'Event', 'type': 'IN_RESPONSE_TO', 'end': 'Concept'},\n",
       "  {'start': 'Organization',\n",
       "   'type': 'FORMERLY_KNOWN_AS',\n",
       "   'end': 'Organization'},\n",
       "  {'start': 'Organization', 'type': 'ACQUIRED_IN_YEAR', 'end': 'Year'},\n",
       "  {'start': 'Organization', 'type': 'REBRANDED_AS', 'end': 'Organization'},\n",
       "  {'start': 'Organization', 'type': 'REBRANDED_IN_YEAR', 'end': 'Year'},\n",
       "  {'start': 'Organization', 'type': 'ESTIMATES_NET_WORTH_OF', 'end': 'Person'},\n",
       "  {'start': 'Organization', 'type': 'MERGED_TO_FORM', 'end': 'Organization'},\n",
       "  {'start': 'Organization', 'type': 'ACQUIRED_BY', 'end': 'Organization'},\n",
       "  {'start': 'Organization', 'type': 'ADVANCES', 'end': 'Field of study'},\n",
       "  {'start': 'Organization', 'type': 'CO_FOUNDED_IN_YEAR', 'end': 'Year'},\n",
       "  {'start': 'Organization', 'type': 'FOUNDED_IN_YEAR', 'end': 'Year'},\n",
       "  {'start': 'Person', 'type': 'HAS_OCCUPATION', 'end': 'Occupation'},\n",
       "  {'start': 'Person', 'type': 'LEADS', 'end': 'Organization'},\n",
       "  {'start': 'Person', 'type': 'WEALTHIEST_PERSON_SINCE', 'end': 'Date'},\n",
       "  {'start': 'Person', 'type': 'HAS_NET_WORTH', 'end': 'Monetary value'},\n",
       "  {'start': 'Person', 'type': 'IS_A', 'end': 'Concept'},\n",
       "  {'start': 'Person', 'type': 'PERFORMED', 'end': 'Event'},\n",
       "  {'start': 'Person', 'type': 'BORN_IN', 'end': 'Location'},\n",
       "  {'start': 'Person', 'type': 'EMIGRATED_TO', 'end': 'Location'},\n",
       "  {'start': 'Person', 'type': 'RECEIVED_DEGREE_FROM', 'end': 'University'},\n",
       "  {'start': 'Person', 'type': 'MOVED_TO', 'end': 'Location'},\n",
       "  {'start': 'Person', 'type': 'CO_FOUNDED', 'end': 'Organization'},\n",
       "  {'start': 'Person', 'type': 'BECAME_CITIZEN_OF', 'end': 'Location'},\n",
       "  {'start': 'Person', 'type': 'FOUNDED', 'end': 'Company'},\n",
       "  {'start': 'Person', 'type': 'FOUNDED', 'end': 'Organization'},\n",
       "  {'start': 'Person', 'type': 'CEO_OF', 'end': 'Company'},\n",
       "  {'start': 'Person', 'type': 'CHIEF_ENGINEER_OF', 'end': 'Company'},\n",
       "  {'start': 'Person', 'type': 'INVESTED_IN', 'end': 'Company'},\n",
       "  {'start': 'Person', 'type': 'PRODUCT_ARCHITECT_OF', 'end': 'Company'},\n",
       "  {'start': 'Person', 'type': 'LEFT', 'end': 'Organization'},\n",
       "  {'start': 'Person', 'type': 'LEFT', 'end': 'Government'},\n",
       "  {'start': 'Person', 'type': 'LEFT', 'end': 'Concept'},\n",
       "  {'start': 'Person', 'type': 'DONOR_IN', 'end': 'Election'},\n",
       "  {'start': 'Person', 'type': 'SUPPORTS', 'end': 'Movement'},\n",
       "  {'start': 'Person', 'type': 'ADVISOR_TO', 'end': 'Person'},\n",
       "  {'start': 'Person', 'type': 'HEAD_OF', 'end': 'Organization'},\n",
       "  {'start': 'Person', 'type': 'CREATED', 'end': 'Political party'},\n",
       "  {'start': 'Person', 'type': 'BECAME_POLARIZING_AFTER', 'end': 'Event'},\n",
       "  {'start': 'Person', 'type': 'CRITICIZED_FOR', 'end': 'Concept'},\n",
       "  {'start': 'Person', 'type': 'AFFIRMED', 'end': 'Concept'},\n",
       "  {'start': 'Person', 'type': 'ESTABLISHED', 'end': 'Organization'},\n",
       "  {'start': 'Person', 'type': 'ACQUIRED', 'end': 'Organization'},\n",
       "  {'start': 'Concept', 'type': 'INCLUDES', 'end': 'Concept'},\n",
       "  {'start': 'Concept', 'type': 'CAUSED_BY', 'end': 'Concept'},\n",
       "  {'start': 'Concept', 'type': 'OCCURRED_ON', 'end': 'Organization'},\n",
       "  {'start': 'Monetary value', 'type': 'AS_OF', 'end': 'Date'},\n",
       "  {'start': 'Company', 'type': 'INNOVATES_IN', 'end': 'Technology'},\n",
       "  {'start': 'Company', 'type': 'LEADER_IN', 'end': 'Technology'}],\n",
       " 'metadata': {'constraint': [{'id': 4,\n",
       "    'name': 'constraint_907a464e',\n",
       "    'type': 'UNIQUENESS',\n",
       "    'entityType': 'NODE',\n",
       "    'labelsOrTypes': ['__Entity__'],\n",
       "    'properties': ['id'],\n",
       "    'ownedIndex': 'constraint_907a464e',\n",
       "    'propertyType': None}],\n",
       "  'index': [{'label': '__Entity__',\n",
       "    'properties': ['id'],\n",
       "    'size': 0,\n",
       "    'type': 'RANGE',\n",
       "    'valuesSelectivity': 1.0,\n",
       "    'distinctValues': 0.0}]}}"
      ]
     },
     "execution_count": 15,
     "metadata": {},
     "output_type": "execute_result"
    }
   ],
   "source": [
    "graph.get_structured_schema"
   ]
  },
  {
   "cell_type": "code",
   "execution_count": 26,
   "id": "bb2a42d1",
   "metadata": {},
   "outputs": [],
   "source": [
    "vector_index = Neo4jVector.from_existing_graph(\n",
    "    username=os.getenv(\"USERNAME\"),\n",
    "    password=os.getenv(\"PASSWORD\"),\n",
    "    embedding=embeddings,\n",
    "    search_type=\"hybrid\",\n",
    "    node_label=\"Document\",\n",
    "    text_node_properties=[\"text\"],\n",
    "    embedding_node_property=\"embedding\"\n",
    ")"
   ]
  },
  {
   "cell_type": "code",
   "execution_count": 32,
   "id": "d75aa34e",
   "metadata": {},
   "outputs": [
    {
     "data": {
      "text/plain": [
       "[(Document(metadata={}, page_content=\"In 2002, Musk founded the space technology company SpaceX, becoming its CEO and chief engineer; the company has since led innovations in reusable rockets and commercial spaceflight. Musk joined the automaker Tesla as an early investor in 2004 and became its CEO and product architect in 2008; it has since become a leader in electric vehicles. In 2015, he co-founded OpenAI to advance artificial intelligence (AI) research but later left; growing discontent with the organization's direction and\"),\n",
       "  1.0),\n",
       " (Document(metadata={}, page_content=\"Born to a wealthy family in Pretoria, South Africa, Musk emigrated in 1989 to Canada. He received bachelor's degrees from the University of Pennsylvania in 1997 before moving to California, United States, to pursue business ventures. In 1995, Musk co-founded the software company Zip2. Following its sale in 1999, he co-founded X.com, an online payment company that later merged to form PayPal, which was acquired by eBay in 2002. That year, Musk also became an American citizen.\"),\n",
       "  1.0),\n",
       " (Document(metadata={}, page_content='\"Elon Reeve Musk FRS (/ˈiːlɒn/ EE-lon; born June 28, 1971) is a businessman, known for his leadership of Tesla, SpaceX, X (formerly Twitter), and the Department of Government Efficiency (DOGE). Musk has been the wealthiest person in the world since 2021; as of May 2025, Forbes estimates his net worth to be US$424.7 billion.'),\n",
       "  0.9812279476576456),\n",
       " (Document(metadata={}, page_content='Musk was the largest donor in the 2024 U.S. presidential election, and is a supporter of global far-right figures, causes, and political parties. In early 2025, he served as senior advisor to United States president Donald Trump and as the de facto head of DOGE. After a public feud with Trump, Musk left the Trump administration and announced he was creating his own political party, the America Party.'),\n",
       "  0.9735620368844634)]"
      ]
     },
     "execution_count": 32,
     "metadata": {},
     "output_type": "execute_result"
    }
   ],
   "source": [
    "vector_index.similarity_search_with_relevance_scores(\"elon musk founded which companies?\")"
   ]
  }
 ],
 "metadata": {
  "kernelspec": {
   "display_name": "kg",
   "language": "python",
   "name": "python3"
  },
  "language_info": {
   "codemirror_mode": {
    "name": "ipython",
    "version": 3
   },
   "file_extension": ".py",
   "mimetype": "text/x-python",
   "name": "python",
   "nbconvert_exporter": "python",
   "pygments_lexer": "ipython3",
   "version": "3.13.5"
  }
 },
 "nbformat": 4,
 "nbformat_minor": 5
}
